{
 "cells": [
  {
   "cell_type": "code",
   "execution_count": 50,
   "metadata": {},
   "outputs": [
    {
     "name": "stdout",
     "output_type": "stream",
     "text": [
      "R2 Score: 0.4083778826430925\n"
     ]
    }
   ],
   "source": [
    "import pandas as pd\n",
    "from sklearn.model_selection import train_test_split\n",
    "from sklearn.preprocessing import StandardScaler\n",
    "from sklearn.linear_model import Lasso\n",
    "from sklearn.metrics import r2_score\n",
    "\n",
    "# Charger les données\n",
    "df = pd.read_csv('2016_Building_Energy_Benchmarking.csv')\n",
    "\n",
    "# Préparation des données\n",
    "features = df[['LargestPropertyUseTypeGFA', 'BuildingType', 'PrimaryPropertyType', 'PropertyGFATotal', 'PropertyGFABuilding(s)']].copy()\n",
    "target = df['SiteEnergyUse(kBtu)'].copy()\n",
    "\n",
    "# Transformer les variables catégoriques en variables numériques\n",
    "features = pd.get_dummies(features, columns=['BuildingType', 'PrimaryPropertyType'])\n",
    "\n",
    "# Drop les NaN values du dataset\n",
    "df = pd.concat([features, target], axis=1).dropna()\n",
    "features = df.drop('SiteEnergyUse(kBtu)', axis=1)\n",
    "target = df['SiteEnergyUse(kBtu)']\n",
    "\n",
    "# Rescaling des variables numériques\n",
    "scaler = StandardScaler()\n",
    "features[['PropertyGFATotal', 'LargestPropertyUseTypeGFA']] = scaler.fit_transform(features[['PropertyGFATotal', 'LargestPropertyUseTypeGFA']])\n",
    "\n",
    "# Sélectionner uniquement les 5 premières caractéristiques\n",
    "selected_features = features.iloc[:, :5]\n",
    "\n",
    "# Diviser les données en ensemble d'entraînement et de test\n",
    "X_train, X_test, y_train, y_test = train_test_split(selected_features, target, test_size=0.2, random_state=42)\n",
    "\n",
    "# Définir le modèle à utiliser\n",
    "model = Lasso(alpha=1084.7831)\n",
    "\n",
    "# Entraîner le modèle\n",
    "model.fit(X_train, y_train)\n",
    "\n",
    "# Prédire sur l'ensemble de test\n",
    "predictions = model.predict(X_test)\n",
    "\n",
    "# Calculer le R2 Score\n",
    "r2 = r2_score(y_test, predictions)\n",
    "print('R2 Score:', r2)"
   ]
  },
  {
   "cell_type": "code",
   "execution_count": 40,
   "metadata": {},
   "outputs": [],
   "source": [
    "import pickle\n",
    "# Enregistrer le modèle dans un fichier .pkl\n",
    "with open('model.pkl', 'wb') as file:\n",
    "    pickle.dump(model, file)"
   ]
  },
  {
   "cell_type": "code",
   "execution_count": null,
   "metadata": {},
   "outputs": [],
   "source": []
  },
  {
   "cell_type": "code",
   "execution_count": 74,
   "metadata": {},
   "outputs": [
    {
     "name": "stdout",
     "output_type": "stream",
     "text": [
      "R2 Score: 0.4289976236218547\n"
     ]
    }
   ],
   "source": [
    "import pandas as pd\n",
    "from sklearn.model_selection import train_test_split\n",
    "from sklearn.preprocessing import StandardScaler\n",
    "from sklearn.linear_model import Lasso\n",
    "from sklearn.metrics import r2_score\n",
    "\n",
    "# Charger les données\n",
    "df = pd.read_csv('2016_Building_Energy_Benchmarking.csv')\n",
    "\n",
    "# Préparation des données\n",
    "features = df[['LargestPropertyUseTypeGFA']].copy()\n",
    "target = df['SiteEnergyUse(kBtu)'].copy()\n",
    "\n",
    "#SiteEnergyUse(kBtu)\n",
    "#TotalGHGEmissions\n",
    "# Drop les NaN values du dataset\n",
    "df = pd.concat([features, target], axis=1).dropna()\n",
    "features = df.drop('SiteEnergyUse(kBtu)', axis=1)\n",
    "target = df['SiteEnergyUse(kBtu)']\n",
    "\n",
    "# Rescaling des variables numériques\n",
    "scaler = StandardScaler()\n",
    "features[['LargestPropertyUseTypeGFA']] = scaler.fit_transform(features[['LargestPropertyUseTypeGFA']])\n",
    "\n",
    "# Sélectionner uniquement les 5 premières caractéristiques\n",
    "selected_features = features.iloc[:, :5]\n",
    "\n",
    "# Diviser les données en ensemble d'entraînement et de test\n",
    "X_train, X_test, y_train, y_test = train_test_split(selected_features, target, test_size=0.2, random_state=42)\n",
    "\n",
    "# Définir le modèle à utiliser\n",
    "model = Lasso(alpha=1084.7831)\n",
    "\n",
    "# Entraîner le modèle\n",
    "model.fit(X_train, y_train)\n",
    "\n",
    "# Prédire sur l'ensemble de test\n",
    "predictions = model.predict(X_test)\n",
    "\n",
    "# Calculer le R2 Score\n",
    "r2 = r2_score(y_test, predictions)\n",
    "print('R2 Score:', r2)"
   ]
  },
  {
   "cell_type": "code",
   "execution_count": 75,
   "metadata": {},
   "outputs": [
    {
     "data": {
      "text/plain": [
       "['scalerenergy.pkl']"
      ]
     },
     "execution_count": 75,
     "metadata": {},
     "output_type": "execute_result"
    }
   ],
   "source": [
    "import pickle\n",
    "# Enregistrer le modèle dans un fichier .pkl\n",
    "with open('modelenergy.pkl', 'wb') as file:\n",
    "    pickle.dump(model, file)\n",
    "\n",
    "import joblib\n",
    "joblib.dump(scaler, 'scalerenergy.pkl')"
   ]
  },
  {
   "cell_type": "code",
   "execution_count": 64,
   "metadata": {},
   "outputs": [
    {
     "name": "stdout",
     "output_type": "stream",
     "text": [
      "Nombre de cas où LargestPropertyUseTypeGFA est supérieur à PropertyGFATotal : 339\n"
     ]
    }
   ],
   "source": [
    "import pandas as pd\n",
    "\n",
    "# Charger les données\n",
    "df = pd.read_csv('2016_Building_Energy_Benchmarking.csv')\n",
    " \n",
    "# Compter le nombre de cas où LargestPropertyUseTypeGFA est supérieur à PropertyGFATotal\n",
    "count = df[df['LargestPropertyUseTypeGFA'] > df['PropertyGFATotal']].shape[0]\n",
    "\n",
    "print(\"Nombre de cas où LargestPropertyUseTypeGFA est supérieur à PropertyGFATotal :\", count)"
   ]
  },
  {
   "cell_type": "code",
   "execution_count": 54,
   "metadata": {},
   "outputs": [
    {
     "name": "stdout",
     "output_type": "stream",
     "text": [
      "Nombre de cas où LargestPropertyUseTypeGFA est supérieur à PropertyGFATotal : 1279\n"
     ]
    }
   ],
   "source": [
    "import pandas as pd\n",
    "\n",
    "# Charger les données\n",
    "df = pd.read_csv('2016_Building_Energy_Benchmarking.csv')\n",
    "\n",
    "# Compter le nombre de cas où LargestPropertyUseTypeGFA est supérieur à PropertyGFATotal\n",
    "count = df[df['LargestPropertyUseTypeGFA'] == df['PropertyGFATotal']].shape[0]\n",
    "\n",
    "print(\"Nombre de cas où LargestPropertyUseTypeGFA est supérieur à PropertyGFATotal :\", count)"
   ]
  },
  {
   "cell_type": "code",
   "execution_count": 72,
   "metadata": {},
   "outputs": [
    {
     "name": "stdout",
     "output_type": "stream",
     "text": [
      "R2 Score: 0.4327037980602966\n"
     ]
    }
   ],
   "source": [
    "import pandas as pd\n",
    "from sklearn.model_selection import train_test_split\n",
    "from sklearn.preprocessing import StandardScaler\n",
    "from sklearn.ensemble import GradientBoostingRegressor\n",
    "from sklearn.metrics import r2_score\n",
    "\n",
    "# Charger les données\n",
    "df = pd.read_csv('2016_Building_Energy_Benchmarking.csv')\n",
    "\n",
    "# Préparation des données\n",
    "features = df[['LargestPropertyUseTypeGFA']].copy()\n",
    "target = df['TotalGHGEmissions'].copy()\n",
    "\n",
    "# Drop les NaN values du dataset\n",
    "df = pd.concat([features, target], axis=1).dropna()\n",
    "features = df.drop('TotalGHGEmissions', axis=1)\n",
    "target = df['TotalGHGEmissions']\n",
    "\n",
    "# Rescaling des variables numériques\n",
    "scaler = StandardScaler()\n",
    "features[['LargestPropertyUseTypeGFA']] = scaler.fit_transform(features[['LargestPropertyUseTypeGFA']])\n",
    "\n",
    "# Diviser les données en ensemble d'entraînement et de test\n",
    "X_train, X_test, y_train, y_test = train_test_split(features, target, test_size=0.2, random_state=42)\n",
    "\n",
    "# Définir le modèle à utiliser\n",
    "model = GradientBoostingRegressor(n_estimators=262, learning_rate=0.28327677, max_depth=4, min_samples_leaf=7, random_state=42)\n",
    "\n",
    "# Entraîner le modèle\n",
    "model.fit(X_train, y_train)\n",
    "\n",
    "# Prédire sur l'ensemble de test\n",
    "predictions = model.predict(X_test)\n",
    "\n",
    "# Calculer le R2 Score\n",
    "r2 = r2_score(y_test, predictions)\n",
    "print('R2 Score:', r2)\n"
   ]
  },
  {
   "cell_type": "code",
   "execution_count": 73,
   "metadata": {},
   "outputs": [
    {
     "data": {
      "text/plain": [
       "['scaleremission.pkl']"
      ]
     },
     "execution_count": 73,
     "metadata": {},
     "output_type": "execute_result"
    }
   ],
   "source": [
    "import pickle\n",
    "# Enregistrer le modèle dans un fichier .pkl\n",
    "with open('modelemission.pkl', 'wb') as file:\n",
    "    pickle.dump(model, file)\n",
    "\n",
    "import joblib\n",
    "joblib.dump(scaler, 'scaleremission.pkl')"
   ]
  }
 ],
 "metadata": {
  "kernelspec": {
   "display_name": "Python 3",
   "language": "python",
   "name": "python3"
  },
  "language_info": {
   "codemirror_mode": {
    "name": "ipython",
    "version": 3
   },
   "file_extension": ".py",
   "mimetype": "text/x-python",
   "name": "python",
   "nbconvert_exporter": "python",
   "pygments_lexer": "ipython3",
   "version": "3.11.3"
  },
  "orig_nbformat": 4
 },
 "nbformat": 4,
 "nbformat_minor": 2
}
