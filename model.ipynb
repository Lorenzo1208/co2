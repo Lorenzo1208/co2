{
 "cells": [
  {
   "cell_type": "code",
   "execution_count": 1,
   "metadata": {},
   "outputs": [
    {
     "name": "stdout",
     "output_type": "stream",
     "text": [
      "R2 Score: 0.4083778826430925\n"
     ]
    }
   ],
   "source": [
    "import pandas as pd\n",
    "from sklearn.model_selection import train_test_split\n",
    "from sklearn.preprocessing import StandardScaler\n",
    "from sklearn.linear_model import Lasso\n",
    "from sklearn.metrics import r2_score\n",
    "\n",
    "# Charger les données\n",
    "df = pd.read_csv('2016_Building_Energy_Benchmarking.csv')\n",
    "\n",
    "# Préparation des données\n",
    "features = df[['LargestPropertyUseTypeGFA', 'BuildingType', 'PrimaryPropertyType', 'PropertyGFATotal', 'PropertyGFABuilding(s)']].copy()\n",
    "target = df['SiteEnergyUse(kBtu)'].copy()\n",
    "\n",
    "# Transformer les variables catégoriques en variables numériques\n",
    "features = pd.get_dummies(features, columns=['BuildingType', 'PrimaryPropertyType'])\n",
    "\n",
    "# Drop les NaN values du dataset\n",
    "df = pd.concat([features, target], axis=1).dropna()\n",
    "features = df.drop('SiteEnergyUse(kBtu)', axis=1)\n",
    "target = df['SiteEnergyUse(kBtu)']\n",
    "\n",
    "# Rescaling des variables numériques\n",
    "scaler = StandardScaler()\n",
    "features[['PropertyGFATotal', 'LargestPropertyUseTypeGFA']] = scaler.fit_transform(features[['PropertyGFATotal', 'LargestPropertyUseTypeGFA']])\n",
    "\n",
    "# Sélectionner uniquement les 5 premières caractéristiques\n",
    "selected_features = features.iloc[:, :5]\n",
    "\n",
    "# Diviser les données en ensemble d'entraînement et de test\n",
    "X_train, X_test, y_train, y_test = train_test_split(selected_features, target, test_size=0.2, random_state=42)\n",
    "\n",
    "# Définir le modèle à utiliser\n",
    "model = Lasso(alpha=1084.7831)\n",
    "\n",
    "# Entraîner le modèle\n",
    "model.fit(X_train, y_train)\n",
    "\n",
    "# Prédire sur l'ensemble de test\n",
    "predictions = model.predict(X_test)\n",
    "\n",
    "# Calculer le R2 Score\n",
    "r2 = r2_score(y_test, predictions)\n",
    "print('R2 Score:', r2)"
   ]
  },
  {
   "cell_type": "code",
   "execution_count": 40,
   "metadata": {},
   "outputs": [],
   "source": [
    "import pickle\n",
    "# Enregistrer le modèle dans un fichier .pkl\n",
    "with open('model.pkl', 'wb') as file:\n",
    "    pickle.dump(model, file)"
   ]
  },
  {
   "cell_type": "code",
   "execution_count": 2,
   "metadata": {},
   "outputs": [
    {
     "name": "stdout",
     "output_type": "stream",
     "text": [
      "R2 Score: 0.4289976236218547\n"
     ]
    }
   ],
   "source": [
    "import pandas as pd\n",
    "from sklearn.model_selection import train_test_split\n",
    "from sklearn.preprocessing import StandardScaler\n",
    "from sklearn.linear_model import Lasso\n",
    "from sklearn.metrics import r2_score\n",
    "\n",
    "# Charger les données\n",
    "df = pd.read_csv('2016_Building_Energy_Benchmarking.csv')\n",
    "\n",
    "# Préparation des données\n",
    "features = df[['LargestPropertyUseTypeGFA']].copy()\n",
    "target = df['SiteEnergyUse(kBtu)'].copy()\n",
    "\n",
    "#SiteEnergyUse(kBtu)\n",
    "#TotalGHGEmissions\n",
    "# Drop les NaN values du dataset\n",
    "df = pd.concat([features, target], axis=1).dropna()\n",
    "features = df.drop('SiteEnergyUse(kBtu)', axis=1)\n",
    "target = df['SiteEnergyUse(kBtu)']\n",
    "\n",
    "# Rescaling des variables numériques\n",
    "scaler = StandardScaler()\n",
    "features[['LargestPropertyUseTypeGFA']] = scaler.fit_transform(features[['LargestPropertyUseTypeGFA']])\n",
    "\n",
    "# Sélectionner uniquement les 5 premières caractéristiques\n",
    "selected_features = features.iloc[:, :5]\n",
    "\n",
    "# Diviser les données en ensemble d'entraînement et de test\n",
    "X_train, X_test, y_train, y_test = train_test_split(selected_features, target, test_size=0.2, random_state=42)\n",
    "\n",
    "# Définir le modèle à utiliser\n",
    "model = Lasso(alpha=1084.7831)\n",
    "\n",
    "# Entraîner le modèle\n",
    "model.fit(X_train, y_train)\n",
    "\n",
    "# Prédire sur l'ensemble de test\n",
    "predictions = model.predict(X_test)\n",
    "\n",
    "# Calculer le R2 Score\n",
    "r2 = r2_score(y_test, predictions)\n",
    "print('R2 Score:', r2)"
   ]
  },
  {
   "cell_type": "code",
   "execution_count": 64,
   "metadata": {},
   "outputs": [
    {
     "name": "stdout",
     "output_type": "stream",
     "text": [
      "Nombre de cas où LargestPropertyUseTypeGFA est supérieur à PropertyGFATotal : 339\n"
     ]
    }
   ],
   "source": [
    "import pandas as pd\n",
    "\n",
    "# Charger les données\n",
    "df = pd.read_csv('2016_Building_Energy_Benchmarking.csv')\n",
    " \n",
    "# Compter le nombre de cas où LargestPropertyUseTypeGFA est supérieur à PropertyGFATotal\n",
    "count = df[df['LargestPropertyUseTypeGFA'] > df['PropertyGFATotal']].shape[0]\n",
    "\n",
    "print(\"Nombre de cas où LargestPropertyUseTypeGFA est supérieur à PropertyGFATotal :\", count)"
   ]
  },
  {
   "cell_type": "code",
   "execution_count": 54,
   "metadata": {},
   "outputs": [
    {
     "name": "stdout",
     "output_type": "stream",
     "text": [
      "Nombre de cas où LargestPropertyUseTypeGFA est supérieur à PropertyGFATotal : 1279\n"
     ]
    }
   ],
   "source": [
    "import pandas as pd\n",
    "\n",
    "# Charger les données\n",
    "df = pd.read_csv('2016_Building_Energy_Benchmarking.csv')\n",
    "\n",
    "# Compter le nombre de cas où LargestPropertyUseTypeGFA est supérieur à PropertyGFATotal\n",
    "count = df[df['LargestPropertyUseTypeGFA'] == df['PropertyGFATotal']].shape[0]\n",
    "\n",
    "print(\"Nombre de cas où LargestPropertyUseTypeGFA est supérieur à PropertyGFATotal :\", count)"
   ]
  },
  {
   "cell_type": "code",
   "execution_count": 49,
   "metadata": {},
   "outputs": [
    {
     "name": "stdout",
     "output_type": "stream",
     "text": [
      "Best Model: Lasso()\n",
      "Best R2 Score: 0.6758632370613493\n"
     ]
    }
   ],
   "source": [
    "import pandas as pd\n",
    "from sklearn.model_selection import train_test_split\n",
    "from sklearn.preprocessing import StandardScaler\n",
    "from sklearn.linear_model import Lasso, Ridge, ElasticNet\n",
    "from sklearn.ensemble import RandomForestRegressor, GradientBoostingRegressor\n",
    "from sklearn.metrics import r2_score\n",
    "\n",
    "#SiteEnergyUse(kBtu)\n",
    "#TotalGHGEmissions\n",
    "\n",
    "# Charger les données\n",
    "# Charger les données\n",
    "df = pd.read_csv('2016_Building_Energy_Benchmarking.csv')\n",
    "\n",
    "# Préparation des données\n",
    "features = df[['LargestPropertyUseTypeGFA', 'BuildingType', 'PrimaryPropertyType', 'PropertyGFATotal', 'PropertyGFABuilding(s)']].copy()\n",
    "target = df['TotalGHGEmissions'].copy()\n",
    "\n",
    "# Transformer les variables catégoriques en variables numériques\n",
    "features = pd.get_dummies(features, columns=['BuildingType', 'PrimaryPropertyType'])\n",
    "\n",
    "# Drop les NaN values du dataset\n",
    "df = pd.concat([features, target], axis=1).dropna()\n",
    "features = df.drop('TotalGHGEmissions', axis=1)\n",
    "target = df['TotalGHGEmissions']\n",
    "\n",
    "# Rescaling des variables numériques\n",
    "scaler = StandardScaler()\n",
    "features[['LargestPropertyUseTypeGFA', 'PropertyGFATotal', 'PropertyGFABuilding(s)']] = scaler.fit_transform(features[['LargestPropertyUseTypeGFA', 'PropertyGFATotal', 'PropertyGFABuilding(s)']])\n",
    "\n",
    "# Diviser les données en ensemble d'entraînement et de test\n",
    "X_train, X_test, y_train, y_test = train_test_split(features, target, test_size=0.2, random_state=42)\n",
    "\n",
    "# Liste des modèles à tester avec différents hyperparamètres\n",
    "models = [\n",
    "    Lasso()\n",
    "]\n",
    "\n",
    "best_model = None\n",
    "best_r2 = -float('inf')\n",
    "\n",
    "# Entraîner et évaluer les modèles\n",
    "for model in models:\n",
    "    model.fit(X_train, y_train)\n",
    "    predictions = model.predict(X_test)\n",
    "    r2 = r2_score(y_test, predictions)\n",
    "    \n",
    "    if r2 > best_r2:\n",
    "        best_r2 = r2\n",
    "        best_model = model\n",
    "\n",
    "print('Best Model:', best_model)\n",
    "print('Best R2 Score:', best_r2)\n"
   ]
  },
  {
   "cell_type": "code",
   "execution_count": 45,
   "metadata": {},
   "outputs": [],
   "source": [
    "import pickle\n",
    "# Enregistrer le modèle dans un fichier .pkl\n",
    "with open('modelemission.pkl', 'wb') as file:\n",
    "    pickle.dump(model, file)\n",
    "\n",
    "import joblib\n",
    "joblib.dump(scaler, 'scaleremission.pkl')\n",
    "with open('columns_emission.pkl', 'wb') as f:\n",
    "    pickle.dump(features.columns, f)"
   ]
  },
  {
   "cell_type": "code",
   "execution_count": 48,
   "metadata": {},
   "outputs": [
    {
     "name": "stdout",
     "output_type": "stream",
     "text": [
      "Best Model: Lasso()\n",
      "Best R2 Score: 0.5716105170328534\n"
     ]
    },
    {
     "name": "stderr",
     "output_type": "stream",
     "text": [
      "c:\\Users\\loren\\AppData\\Local\\Programs\\Python\\Python311\\Lib\\site-packages\\sklearn\\linear_model\\_coordinate_descent.py:631: ConvergenceWarning: Objective did not converge. You might want to increase the number of iterations, check the scale of the features or consider increasing regularisation. Duality gap: 5.685e+16, tolerance: 1.297e+14\n",
      "  model = cd_fast.enet_coordinate_descent(\n"
     ]
    }
   ],
   "source": [
    "import pandas as pd\n",
    "from sklearn.model_selection import train_test_split\n",
    "from sklearn.preprocessing import StandardScaler\n",
    "from sklearn.linear_model import Lasso\n",
    "from sklearn.metrics import r2_score\n",
    "\n",
    "#SiteEnergyUse(kBtu)\n",
    "#TotalGHGEmissions\n",
    "\n",
    "# Charger les données\n",
    "df = pd.read_csv('2016_Building_Energy_Benchmarking.csv')\n",
    "\n",
    "# Préparation des données\n",
    "features = df[['LargestPropertyUseTypeGFA', 'BuildingType', 'PrimaryPropertyType', 'PropertyGFATotal', 'PropertyGFABuilding(s)']].copy()\n",
    "target = df['SiteEnergyUse(kBtu)'].copy()\n",
    "\n",
    "# Transformer les variables catégoriques en variables numériques\n",
    "features = pd.get_dummies(features, columns=['BuildingType', 'PrimaryPropertyType'])\n",
    "\n",
    "# Drop les NaN values du dataset\n",
    "df = pd.concat([features, target], axis=1).dropna()\n",
    "features = df.drop('SiteEnergyUse(kBtu)', axis=1)\n",
    "target = df['SiteEnergyUse(kBtu)']\n",
    "\n",
    "# Rescaling des variables numériques\n",
    "scaler = StandardScaler()\n",
    "features[['LargestPropertyUseTypeGFA', 'PropertyGFATotal', 'PropertyGFABuilding(s)']] = scaler.fit_transform(features[['LargestPropertyUseTypeGFA', 'PropertyGFATotal', 'PropertyGFABuilding(s)']])\n",
    "\n",
    "# Diviser les données en ensemble d'entraînement et de test\n",
    "X_train, X_test, y_train, y_test = train_test_split(features, target, test_size=0.2, random_state=42)\n",
    "\n",
    "# Liste des modèles à tester avec différents hyperparamètres\n",
    "models = [\n",
    "    Lasso()\n",
    "]\n",
    "\n",
    "best_model = None\n",
    "best_r2 = -float('inf')\n",
    "\n",
    "# Entraîner et évaluer les modèles\n",
    "for model in models:\n",
    "    model.fit(X_train, y_train)\n",
    "    predictions = model.predict(X_test)\n",
    "    r2 = r2_score(y_test, predictions)\n",
    "    \n",
    "    if r2 > best_r2:\n",
    "        best_r2 = r2\n",
    "        best_model = model\n",
    "\n",
    "print('Best Model:', best_model)\n",
    "print('Best R2 Score:', best_r2)\n"
   ]
  },
  {
   "cell_type": "code",
   "execution_count": 44,
   "metadata": {},
   "outputs": [
    {
     "data": {
      "text/plain": [
       "['scalerenergy.pkl']"
      ]
     },
     "execution_count": 44,
     "metadata": {},
     "output_type": "execute_result"
    }
   ],
   "source": [
    "import pickle\n",
    "# Enregistrer le modèle dans un fichier .pkl\n",
    "with open('modelenergy.pkl', 'wb') as file:\n",
    "    pickle.dump(model, file)\n",
    "\n",
    "import joblib\n",
    "joblib.dump(scaler, 'scalerenergy.pkl')"
   ]
  },
  {
   "cell_type": "code",
   "execution_count": 71,
   "metadata": {},
   "outputs": [
    {
     "name": "stdout",
     "output_type": "stream",
     "text": [
      "Index(['LargestPropertyUseTypeGFA', 'PrimaryPropertyType_Distribution Center',\n",
      "       'PrimaryPropertyType_High-Rise Multifamily',\n",
      "       'PrimaryPropertyType_Hospital', 'PrimaryPropertyType_Hotel',\n",
      "       'PrimaryPropertyType_K-12 School', 'PrimaryPropertyType_Laboratory',\n",
      "       'PrimaryPropertyType_Large Office',\n",
      "       'PrimaryPropertyType_Low-Rise Multifamily',\n",
      "       'PrimaryPropertyType_Medical Office',\n",
      "       'PrimaryPropertyType_Mid-Rise Multifamily',\n",
      "       'PrimaryPropertyType_Mixed Use Property', 'PrimaryPropertyType_Office',\n",
      "       'PrimaryPropertyType_Other',\n",
      "       'PrimaryPropertyType_Refrigerated Warehouse',\n",
      "       'PrimaryPropertyType_Residence Hall', 'PrimaryPropertyType_Restaurant',\n",
      "       'PrimaryPropertyType_Retail Store',\n",
      "       'PrimaryPropertyType_Self-Storage Facility',\n",
      "       'PrimaryPropertyType_Senior Care Community',\n",
      "       'PrimaryPropertyType_Small- and Mid-Sized Office',\n",
      "       'PrimaryPropertyType_Supermarket / Grocery Store',\n",
      "       'PrimaryPropertyType_University', 'PrimaryPropertyType_Warehouse',\n",
      "       'PrimaryPropertyType_Worship Facility'],\n",
      "      dtype='object')\n",
      "R2 Score - Energy: 0.5970077719830454\n",
      "R2 Score - Emissions: 0.6991923453807781\n"
     ]
    }
   ],
   "source": [
    "import pandas as pd\n",
    "from sklearn.model_selection import train_test_split\n",
    "from sklearn.preprocessing import StandardScaler\n",
    "from sklearn.multioutput import MultiOutputRegressor\n",
    "from sklearn.linear_model import Lasso\n",
    "from sklearn.metrics import r2_score\n",
    "\n",
    "# Charger les données\n",
    "df = pd.read_csv('2016_Building_Energy_Benchmarking.csv')\n",
    "\n",
    "# Préparation des données\n",
    "features = df[['LargestPropertyUseTypeGFA', 'PrimaryPropertyType']].copy()\n",
    "targets = df[['SiteEnergyUse(kBtu)', 'TotalGHGEmissions']].copy()\n",
    "\n",
    "# Extraire tous les PrimaryPropertyType disponibles\n",
    "primary_property_types = features['PrimaryPropertyType'].unique()\n",
    "# print(primary_property_types)\n",
    "# Transformer les variables catégoriques en variables numériques\n",
    "features = pd.get_dummies(features, columns=['PrimaryPropertyType'])\n",
    "\n",
    "# Drop les NaN values du dataset\n",
    "df = pd.concat([features, targets], axis=1).dropna()\n",
    "features = df.drop(['SiteEnergyUse(kBtu)', 'TotalGHGEmissions'], axis=1)\n",
    "targets = df[['SiteEnergyUse(kBtu)', 'TotalGHGEmissions']]\n",
    "\n",
    "# Rescaling des variables numériques\n",
    "scaler = StandardScaler()\n",
    "features[['LargestPropertyUseTypeGFA']] = scaler.fit_transform(features[['LargestPropertyUseTypeGFA']])\n",
    "\n",
    "# Diviser les données en ensemble d'entraînement et de test\n",
    "X_train, X_test, y_train, y_test = train_test_split(features, targets, test_size=0.2, random_state=42)\n",
    "print(X_train.columns)\n",
    "\n",
    "# Initialiser le modèle multi-output avec le modèle de régression souhaité (par exemple, Lasso)\n",
    "model = MultiOutputRegressor(Lasso())\n",
    "\n",
    "# Entraîner le modèle\n",
    "model.fit(X_train, y_train)\n",
    "\n",
    "# Faire des prédictions sur l'ensemble de test\n",
    "predictions = model.predict(X_test)\n",
    "\n",
    "# Calculer le R2 score pour chaque cible\n",
    "r2_energy = r2_score(y_test['SiteEnergyUse(kBtu)'], predictions[:, 0])\n",
    "r2_emissions = r2_score(y_test['TotalGHGEmissions'], predictions[:, 1])\n",
    "\n",
    "print('R2 Score - Energy:', r2_energy)\n",
    "print('R2 Score - Emissions:', r2_emissions)\n"
   ]
  },
  {
   "cell_type": "code",
   "execution_count": 56,
   "metadata": {},
   "outputs": [
    {
     "data": {
      "text/plain": [
       "['multiscaler.pkl']"
      ]
     },
     "execution_count": 56,
     "metadata": {},
     "output_type": "execute_result"
    }
   ],
   "source": [
    "import pickle\n",
    "# Enregistrer le modèle dans un fichier .pkl\n",
    "with open('multimodel.pkl', 'wb') as file:\n",
    "    pickle.dump(model, file)\n",
    "\n",
    "import joblib\n",
    "joblib.dump(scaler, 'multiscaler.pkl')"
   ]
  },
  {
   "cell_type": "code",
   "execution_count": 66,
   "metadata": {},
   "outputs": [],
   "source": [
    "import csv\n",
    "\n",
    "column_list = ['LargestPropertyUseTypeGFA', 'PrimaryPropertyType_Distribution Center', 'PrimaryPropertyType_High-Rise Multifamily', 'PrimaryPropertyType_Hospital', 'PrimaryPropertyType_Hotel', 'PrimaryPropertyType_K-12 School', 'PrimaryPropertyType_Laboratory', 'PrimaryPropertyType_Large Office', 'PrimaryPropertyType_Low-Rise Multifamily', 'PrimaryPropertyType_Medical Office', 'PrimaryPropertyType_Mid-Rise Multifamily', 'PrimaryPropertyType_Mixed Use Property', 'PrimaryPropertyType_Office', 'PrimaryPropertyType_Other', 'PrimaryPropertyType_Refrigerated Warehouse', 'PrimaryPropertyType_Residence Hall', 'PrimaryPropertyType_Restaurant', 'PrimaryPropertyType_Retail Store', 'PrimaryPropertyType_Self-Storage Facility', 'PrimaryPropertyType_Senior Care Community', 'PrimaryPropertyType_Small- and Mid-Sized Office', 'PrimaryPropertyType_Supermarket / Grocery Store', 'PrimaryPropertyType_University', 'PrimaryPropertyType_Warehouse', 'PrimaryPropertyType_Worship Facility']\n",
    "\n",
    "# Enregistrer la liste des colonnes dans un fichier CSV\n",
    "with open('column_list.csv', 'w', newline='') as file:\n",
    "    writer = csv.writer(file)\n",
    "    writer.writerow(column_list)\n"
   ]
  },
  {
   "cell_type": "code",
   "execution_count": 76,
   "metadata": {},
   "outputs": [
    {
     "name": "stdout",
     "output_type": "stream",
     "text": [
      "R2 Score - Energy: 0.48943422920146096\n",
      "R2 Score - Emissions: 0.604099097659913\n"
     ]
    },
    {
     "name": "stderr",
     "output_type": "stream",
     "text": [
      "c:\\Users\\loren\\AppData\\Local\\Programs\\Python\\Python311\\Lib\\site-packages\\sklearn\\linear_model\\_coordinate_descent.py:631: ConvergenceWarning: Objective did not converge. You might want to increase the number of iterations, check the scale of the features or consider increasing regularisation. Duality gap: 1.065e+16, tolerance: 1.297e+14\n",
      "  model = cd_fast.enet_coordinate_descent(\n"
     ]
    }
   ],
   "source": [
    "import pandas as pd\n",
    "import numpy as np\n",
    "from sklearn.model_selection import train_test_split\n",
    "from sklearn.preprocessing import StandardScaler\n",
    "from sklearn.multioutput import MultiOutputRegressor\n",
    "from sklearn.linear_model import Lasso\n",
    "from sklearn.metrics import r2_score\n",
    "\n",
    "# Charger les données\n",
    "df = pd.read_csv('2016_Building_Energy_Benchmarking.csv')\n",
    "\n",
    "# Préparation des données\n",
    "features = df[['LargestPropertyUseTypeGFA', 'PrimaryPropertyType']].copy()\n",
    "targets = df[['SiteEnergyUse(kBtu)', 'TotalGHGEmissions']].copy()\n",
    "\n",
    "# Apply log transformation only to the features\n",
    "features['LargestPropertyUseTypeGFA'] = np.log1p(features['LargestPropertyUseTypeGFA'])\n",
    "\n",
    "# Extraire tous les PrimaryPropertyType disponibles\n",
    "primary_property_types = features['PrimaryPropertyType'].unique()\n",
    "\n",
    "# Transformer les variables catégoriques en variables numériques\n",
    "features = pd.get_dummies(features, columns=['PrimaryPropertyType'])\n",
    "\n",
    "# Drop les NaN values du dataset\n",
    "df = pd.concat([features, targets], axis=1).dropna()\n",
    "features = df.drop(['SiteEnergyUse(kBtu)', 'TotalGHGEmissions'], axis=1)\n",
    "targets = df[['SiteEnergyUse(kBtu)', 'TotalGHGEmissions']]\n",
    "\n",
    "# Rescaling des variables numériques\n",
    "scaler = StandardScaler()\n",
    "features[['LargestPropertyUseTypeGFA']] = scaler.fit_transform(features[['LargestPropertyUseTypeGFA']])\n",
    "\n",
    "# Diviser les données en ensemble d'entraînement et de test\n",
    "X_train, X_test, y_train, y_test = train_test_split(features, targets, test_size=0.2, random_state=42)\n",
    "\n",
    "# Initialiser le modèle multi-output avec le modèle de régression souhaité (par exemple, Lasso)\n",
    "model = MultiOutputRegressor(Lasso())\n",
    "\n",
    "# Entraîner le modèle\n",
    "model.fit(X_train, y_train)\n",
    "\n",
    "# Faire des prédictions sur l'ensemble de test\n",
    "predictions = model.predict(X_test)\n",
    "\n",
    "# Calculer le R2 score pour chaque cible\n",
    "r2_energy = r2_score(y_test['SiteEnergyUse(kBtu)'], predictions[:, 0])\n",
    "r2_emissions = r2_score(y_test['TotalGHGEmissions'], predictions[:, 1])\n",
    "\n",
    "print('R2 Score - Energy:', r2_energy)\n",
    "print('R2 Score - Emissions:', r2_emissions)\n"
   ]
  }
 ],
 "metadata": {
  "kernelspec": {
   "display_name": "Python 3",
   "language": "python",
   "name": "python3"
  },
  "language_info": {
   "codemirror_mode": {
    "name": "ipython",
    "version": 3
   },
   "file_extension": ".py",
   "mimetype": "text/x-python",
   "name": "python",
   "nbconvert_exporter": "python",
   "pygments_lexer": "ipython3",
   "version": "3.11.3"
  },
  "orig_nbformat": 4
 },
 "nbformat": 4,
 "nbformat_minor": 2
}
