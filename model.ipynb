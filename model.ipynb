{
 "cells": [
  {
   "cell_type": "code",
   "execution_count": 42,
   "metadata": {},
   "outputs": [
    {
     "name": "stdout",
     "output_type": "stream",
     "text": [
      "R2 Score: 0.407161527034667\n"
     ]
    }
   ],
   "source": [
    "import pandas as pd\n",
    "from sklearn.model_selection import train_test_split\n",
    "from sklearn.preprocessing import StandardScaler\n",
    "from sklearn.linear_model import Lasso\n",
    "from sklearn.metrics import r2_score\n",
    "\n",
    "# Charger les données\n",
    "df = pd.read_csv('2016_Building_Energy_Benchmarking.csv')\n",
    "\n",
    "# Préparation des données\n",
    "features = df[['LargestPropertyUseTypeGFA', 'BuildingType', 'PrimaryPropertyType', 'PropertyGFATotal']].copy()\n",
    "target = df['SiteEnergyUse(kBtu)'].copy()\n",
    "\n",
    "# Transformer les variables catégoriques en variables numériques\n",
    "features = pd.get_dummies(features, columns=['BuildingType', 'PrimaryPropertyType'])\n",
    "\n",
    "# Drop les NaN values du dataset\n",
    "df = pd.concat([features, target], axis=1).dropna()\n",
    "features = df.drop('SiteEnergyUse(kBtu)', axis=1)\n",
    "target = df['SiteEnergyUse(kBtu)']\n",
    "\n",
    "# Rescaling des variables numériques\n",
    "scaler = StandardScaler()\n",
    "features[['PropertyGFATotal', 'LargestPropertyUseTypeGFA']] = scaler.fit_transform(features[['PropertyGFATotal', 'LargestPropertyUseTypeGFA']])\n",
    "\n",
    "# Sélectionner uniquement les 5 premières caractéristiques\n",
    "selected_features = features.iloc[:, :5]\n",
    "\n",
    "# Diviser les données en ensemble d'entraînement et de test\n",
    "X_train, X_test, y_train, y_test = train_test_split(selected_features, target, test_size=0.2, random_state=42)\n",
    "\n",
    "# Définir le modèle à utiliser\n",
    "model = Lasso(alpha=1084.7831)\n",
    "\n",
    "# Entraîner le modèle\n",
    "model.fit(X_train, y_train)\n",
    "\n",
    "# Prédire sur l'ensemble de test\n",
    "predictions = model.predict(X_test)\n",
    "\n",
    "# Calculer le R2 Score\n",
    "r2 = r2_score(y_test, predictions)\n",
    "print('R2 Score:', r2)"
   ]
  },
  {
   "cell_type": "code",
   "execution_count": 40,
   "metadata": {},
   "outputs": [],
   "source": [
    "import pickle\n",
    "# Enregistrer le modèle dans un fichier .pkl\n",
    "with open('model.pkl', 'wb') as file:\n",
    "    pickle.dump(model, file)"
   ]
  },
  {
   "cell_type": "code",
   "execution_count": null,
   "metadata": {},
   "outputs": [],
   "source": []
  }
 ],
 "metadata": {
  "kernelspec": {
   "display_name": "Python 3",
   "language": "python",
   "name": "python3"
  },
  "language_info": {
   "codemirror_mode": {
    "name": "ipython",
    "version": 3
   },
   "file_extension": ".py",
   "mimetype": "text/x-python",
   "name": "python",
   "nbconvert_exporter": "python",
   "pygments_lexer": "ipython3",
   "version": "3.11.3"
  },
  "orig_nbformat": 4
 },
 "nbformat": 4,
 "nbformat_minor": 2
}
